{
 "cells": [
  {
   "cell_type": "code",
   "execution_count": null,
   "metadata": {},
   "outputs": [],
   "source": [
    "\n",
    "import cv2\n",
    "import numpy as np\n",
    " \n",
    "cap = cv2.VideoCapture(0)\n",
    " \n",
    "while 1:\n",
    "    ret,frame =cap.read()\n",
    "    # ret will return a true value if the frame exists otherwise False\n",
    "    into_hsv =cv2.cvtColor(frame,cv2.COLOR_BGR2HSV)\n",
    "    # changing the color format from BGr to HSV\n",
    "    # This will be used to create the mask\n",
    "    L_limit=np.array([98,50,50]) # setting the blue lower limit\n",
    "    U_limit=np.array([139,255,255]) # setting the blue upper limit\n",
    "        \n",
    " \n",
    "    b_mask=cv2.inRange(into_hsv,L_limit,U_limit)\n",
    "    # creating the mask using inRange() function\n",
    "    # this will produce an image where the color of the objects\n",
    "    # falling in the range will turn white and rest will be black\n",
    "    blue=cv2.bitwise_and(frame,frame,mask=b_mask)\n",
    "    # this will give the color to mask.\n",
    "    cv2.imshow('Original',frame) # to display the original frame\n",
    "    cv2.imshow('Blue Detector',blue) # to display the blue object output\n",
    " \n",
    "    if cv2.waitKey(1)==27:\n",
    "        break\n",
    "    # this function will be triggered when the ESC key is pressed\n",
    "    # and the while loop will terminate and so will the program\n",
    "cap.release()\n",
    " \n",
    "cv2.destroyAllWindows()"
   ]
  },
  {
   "cell_type": "code",
   "execution_count": null,
   "metadata": {},
   "outputs": [],
   "source": []
  }
 ],
 "metadata": {
  "kernelspec": {
   "display_name": "Python 3",
   "language": "python",
   "name": "python3"
  },
  "language_info": {
   "codemirror_mode": {
    "name": "ipython",
    "version": 3
   },
   "file_extension": ".py",
   "mimetype": "text/x-python",
   "name": "python",
   "nbconvert_exporter": "python",
   "pygments_lexer": "ipython3",
   "version": "3.8.5"
  }
 },
 "nbformat": 4,
 "nbformat_minor": 4
}
